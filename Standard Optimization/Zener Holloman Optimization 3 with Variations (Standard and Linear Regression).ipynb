{
 "cells": [
  {
   "cell_type": "code",
   "execution_count": 1,
   "id": "a57341db",
   "metadata": {},
   "outputs": [],
   "source": [
    "import numpy as np\n",
    "import pandas as pd\n",
    "import matplotlib.pyplot as plt\n",
    "from sklearn import metrics\n",
    "from scipy.optimize import minimize\n",
    "from sklearn.metrics import mean_squared_error, r2_score\n",
    "import seaborn as sns"
   ]
  },
  {
   "cell_type": "code",
   "execution_count": 2,
   "id": "37408931",
   "metadata": {},
   "outputs": [],
   "source": [
    "force1=pd.read_excel('ForceData_1.xlsx')"
   ]
  },
  {
   "cell_type": "markdown",
   "id": "5d022840",
   "metadata": {},
   "source": [
    "## ln (C1) + C2/RT"
   ]
  },
  {
   "cell_type": "code",
   "execution_count": 5,
   "id": "cd286c65",
   "metadata": {},
   "outputs": [
    {
     "name": "stdout",
     "output_type": "stream",
     "text": [
      "Optimized coefficients: [6.73674087e-01 4.29714063e+04]\n",
      "RMSE: 9.257985007596892\n",
      "R^2: 0.7841480651512535\n"
     ]
    }
   ],
   "source": [
    "# Define the Zener-Hollomon flow stress curve equation\n",
    "def zener_holloman(c1, c2,RT):\n",
    "    #RT = temperature * 8.314  # assuming gas constant R = 8.314 J/(mol*K)\n",
    "    return c1 * np.exp(c2 * RT)\n",
    "\n",
    "# Define the objective function to minimize (using mean squared error)\n",
    "def objective_function(coef,RT,measured_values):\n",
    "    predicted_values = zener_holloman(coef[0], coef[1], RT)\n",
    "    return np.mean((predicted_values - measured_values) ** 2)\n",
    "\n",
    "#strain = force1['Strain']\n",
    "#strain_rate = force1['Strain Rate']\n",
    "RT= force1['1/RT']\n",
    "measured_values = force1['Meas FS (ksi)']\n",
    "\n",
    "# Initial guess for coefficients\n",
    "#initial_guess = np.array([5684853.280812844,30600.773266375065,-0.14659341280912486,0.41966654801836967])\n",
    "initial_guess = [1,1]\n",
    "\n",
    "\n",
    "#5684853.280812844\n",
    "#30600.773266375065\n",
    "#-0.14659341280912486\n",
    "#0.41966654801836967\n",
    "\n",
    "# Bounds for coefficients\n",
    "#bounds = [(10000, 200000000), (5000, 200000), (0, 1.1), (0, 1.1)]  \n",
    "\n",
    "# Optimize the coefficients using scipy minimize function\n",
    "result = minimize(objective_function, initial_guess, args=(RT, measured_values),tol=1e-10)\n",
    "\n",
    "# Extract optimized coefficients\n",
    "optimized_coefs = result.x\n",
    "\n",
    "# Print optimized coefficients\n",
    "print(\"Optimized coefficients:\", optimized_coefs)\n",
    "\n",
    "# Compute predicted values using optimized coefficients\n",
    "predicted_values = zener_holloman(optimized_coefs[0], optimized_coefs[1], RT)\n",
    "\n",
    "# Compute RMSE\n",
    "rmse = np.sqrt(mean_squared_error(measured_values, predicted_values))\n",
    "print(\"RMSE:\", rmse)\n",
    "\n",
    "# Compute R^2\n",
    "r2 = r2_score(measured_values, predicted_values)\n",
    "print(\"R^2:\", r2)\n"
   ]
  },
  {
   "cell_type": "markdown",
   "id": "ab5b4867",
   "metadata": {},
   "source": [
    "## Linear Regression"
   ]
  },
  {
   "cell_type": "code",
   "execution_count": 6,
   "id": "8d5397e6",
   "metadata": {},
   "outputs": [],
   "source": [
    "from sklearn.linear_model import LinearRegression"
   ]
  },
  {
   "cell_type": "code",
   "execution_count": 15,
   "id": "b2ff1db1",
   "metadata": {},
   "outputs": [
    {
     "data": {
      "text/html": [
       "<style>#sk-container-id-1 {color: black;}#sk-container-id-1 pre{padding: 0;}#sk-container-id-1 div.sk-toggleable {background-color: white;}#sk-container-id-1 label.sk-toggleable__label {cursor: pointer;display: block;width: 100%;margin-bottom: 0;padding: 0.3em;box-sizing: border-box;text-align: center;}#sk-container-id-1 label.sk-toggleable__label-arrow:before {content: \"▸\";float: left;margin-right: 0.25em;color: #696969;}#sk-container-id-1 label.sk-toggleable__label-arrow:hover:before {color: black;}#sk-container-id-1 div.sk-estimator:hover label.sk-toggleable__label-arrow:before {color: black;}#sk-container-id-1 div.sk-toggleable__content {max-height: 0;max-width: 0;overflow: hidden;text-align: left;background-color: #f0f8ff;}#sk-container-id-1 div.sk-toggleable__content pre {margin: 0.2em;color: black;border-radius: 0.25em;background-color: #f0f8ff;}#sk-container-id-1 input.sk-toggleable__control:checked~div.sk-toggleable__content {max-height: 200px;max-width: 100%;overflow: auto;}#sk-container-id-1 input.sk-toggleable__control:checked~label.sk-toggleable__label-arrow:before {content: \"▾\";}#sk-container-id-1 div.sk-estimator input.sk-toggleable__control:checked~label.sk-toggleable__label {background-color: #d4ebff;}#sk-container-id-1 div.sk-label input.sk-toggleable__control:checked~label.sk-toggleable__label {background-color: #d4ebff;}#sk-container-id-1 input.sk-hidden--visually {border: 0;clip: rect(1px 1px 1px 1px);clip: rect(1px, 1px, 1px, 1px);height: 1px;margin: -1px;overflow: hidden;padding: 0;position: absolute;width: 1px;}#sk-container-id-1 div.sk-estimator {font-family: monospace;background-color: #f0f8ff;border: 1px dotted black;border-radius: 0.25em;box-sizing: border-box;margin-bottom: 0.5em;}#sk-container-id-1 div.sk-estimator:hover {background-color: #d4ebff;}#sk-container-id-1 div.sk-parallel-item::after {content: \"\";width: 100%;border-bottom: 1px solid gray;flex-grow: 1;}#sk-container-id-1 div.sk-label:hover label.sk-toggleable__label {background-color: #d4ebff;}#sk-container-id-1 div.sk-serial::before {content: \"\";position: absolute;border-left: 1px solid gray;box-sizing: border-box;top: 0;bottom: 0;left: 50%;z-index: 0;}#sk-container-id-1 div.sk-serial {display: flex;flex-direction: column;align-items: center;background-color: white;padding-right: 0.2em;padding-left: 0.2em;position: relative;}#sk-container-id-1 div.sk-item {position: relative;z-index: 1;}#sk-container-id-1 div.sk-parallel {display: flex;align-items: stretch;justify-content: center;background-color: white;position: relative;}#sk-container-id-1 div.sk-item::before, #sk-container-id-1 div.sk-parallel-item::before {content: \"\";position: absolute;border-left: 1px solid gray;box-sizing: border-box;top: 0;bottom: 0;left: 50%;z-index: -1;}#sk-container-id-1 div.sk-parallel-item {display: flex;flex-direction: column;z-index: 1;position: relative;background-color: white;}#sk-container-id-1 div.sk-parallel-item:first-child::after {align-self: flex-end;width: 50%;}#sk-container-id-1 div.sk-parallel-item:last-child::after {align-self: flex-start;width: 50%;}#sk-container-id-1 div.sk-parallel-item:only-child::after {width: 0;}#sk-container-id-1 div.sk-dashed-wrapped {border: 1px dashed gray;margin: 0 0.4em 0.5em 0.4em;box-sizing: border-box;padding-bottom: 0.4em;background-color: white;}#sk-container-id-1 div.sk-label label {font-family: monospace;font-weight: bold;display: inline-block;line-height: 1.2em;}#sk-container-id-1 div.sk-label-container {text-align: center;}#sk-container-id-1 div.sk-container {/* jupyter's `normalize.less` sets `[hidden] { display: none; }` but bootstrap.min.css set `[hidden] { display: none !important; }` so we also need the `!important` here to be able to override the default hidden behavior on the sphinx rendered scikit-learn.org. See: https://github.com/scikit-learn/scikit-learn/issues/21755 */display: inline-block !important;position: relative;}#sk-container-id-1 div.sk-text-repr-fallback {display: none;}</style><div id=\"sk-container-id-1\" class=\"sk-top-container\"><div class=\"sk-text-repr-fallback\"><pre>LinearRegression()</pre><b>In a Jupyter environment, please rerun this cell to show the HTML representation or trust the notebook. <br />On GitHub, the HTML representation is unable to render, please try loading this page with nbviewer.org.</b></div><div class=\"sk-container\" hidden><div class=\"sk-item\"><div class=\"sk-estimator sk-toggleable\"><input class=\"sk-toggleable__control sk-hidden--visually\" id=\"sk-estimator-id-1\" type=\"checkbox\" checked><label for=\"sk-estimator-id-1\" class=\"sk-toggleable__label sk-toggleable__label-arrow\">LinearRegression</label><div class=\"sk-toggleable__content\"><pre>LinearRegression()</pre></div></div></div></div></div>"
      ],
      "text/plain": [
       "LinearRegression()"
      ]
     },
     "execution_count": 15,
     "metadata": {},
     "output_type": "execute_result"
    }
   ],
   "source": [
    "model=LinearRegression()\n",
    "X=force1['Core Temp (F)'].to_numpy()\n",
    "X=X.reshape((-1, 1))\n",
    "y= force1['Meas FS (ksi)']\n",
    "model.fit(X,y)"
   ]
  },
  {
   "cell_type": "code",
   "execution_count": 17,
   "id": "867b6dcb",
   "metadata": {},
   "outputs": [
    {
     "name": "stdout",
     "output_type": "stream",
     "text": [
      "coefficient of determination: 0.8921384834931282\n"
     ]
    }
   ],
   "source": [
    "r_sq = model.score(X, y)\n",
    "print(f\"coefficient of determination: {r_sq}\")"
   ]
  },
  {
   "cell_type": "code",
   "execution_count": 18,
   "id": "f5035bae",
   "metadata": {},
   "outputs": [
    {
     "name": "stdout",
     "output_type": "stream",
     "text": [
      "intercept: 299.6712570451249\n",
      "slope: [-0.14191957]\n"
     ]
    }
   ],
   "source": [
    "print(f\"intercept: {model.intercept_}\")\n",
    "print(f\"slope: {model.coef_}\")   "
   ]
  },
  {
   "cell_type": "code",
   "execution_count": 20,
   "id": "4fb16091",
   "metadata": {},
   "outputs": [
    {
     "name": "stdout",
     "output_type": "stream",
     "text": [
      "predicted response:\n",
      "[ 15.08629351  25.25448627  25.28250424  25.92482888  26.46199604\n",
      "  26.48755982  27.13674955  27.61233326  27.81867373  27.83857565\n",
      "  27.8858783   28.2637138   28.29297879  28.71061693  28.81861192\n",
      "  28.89970761  29.00038655  29.18522962  29.23856917  29.56569604\n",
      "  29.58207035  29.66328025  29.66782925  29.72143162  29.76851041\n",
      "  30.18414529  30.47600293  30.47606238  30.51963223  30.98932221\n",
      "  31.12435582  31.17010269  31.48656558  31.49464474  31.68049204\n",
      "  32.00905894  32.27702392  32.44756779  32.55198442  32.67221789\n",
      "  32.95060287  33.21567618  33.59057711  33.60643137  33.8934193\n",
      "  33.91489591  35.00186879  35.01866381  35.09397885  35.11712001\n",
      "  35.17136333  35.44167561  35.44593946  35.61248944  35.76063383\n",
      "  36.24047259  36.25573843  36.28912476  37.69891057  38.1226359\n",
      "  38.32461538  38.85930569  39.48384274  39.87052073  39.99434801\n",
      "  40.03247348  40.26039774  40.37064708  41.05620897  41.52962356\n",
      "  41.73173523  41.78905161  42.05008232  42.45407174  42.96291369\n",
      "  43.36033641  43.52824881  43.8040424   43.85005096  45.14359485\n",
      "  46.39569558  46.52921352  46.96450872  47.08179959  47.81152991\n",
      "  49.54285571  50.48754867  54.18159541  54.35324262  55.10477642\n",
      "  55.32296134  55.82064832  55.87868943  56.6377463   58.50974956\n",
      "  63.29754197  63.79287346  64.29509208  68.7297061   71.83863599\n",
      "  71.93038386  74.13169035  77.41910277  82.77501814  86.62236936\n",
      "  93.39703939  96.9424013  103.71115831 107.51698897 116.65165511]\n"
     ]
    }
   ],
   "source": [
    "y_pred = model.predict(X)\n",
    "print(f\"predicted response:\\n{y_pred}\")"
   ]
  },
  {
   "cell_type": "code",
   "execution_count": 22,
   "id": "7ca8aeed",
   "metadata": {},
   "outputs": [
    {
     "data": {
      "image/png": "[encoded data removed]",
      "text/plain": [
       "<Figure size 640x480 with 1 Axes>"
      ]
     },
     "metadata": {},
     "output_type": "display_data"
    }
   ],
   "source": [
    "plt.plot(X,y,'ro',label='actual')\n",
    "plt.plot(X,y_pred,'bo',label='predicted')\n",
    "plt.legend()\n",
    "plt.show()"
   ]
  },
  {
   "cell_type": "markdown",
   "id": "be84b082",
   "metadata": {},
   "source": [
    "## ln (C1) + C2/RT +C3*ln(strain)"
   ]
  },
  {
   "cell_type": "code",
   "execution_count": 24,
   "id": "4f931cc8",
   "metadata": {},
   "outputs": [
    {
     "data": {
      "text/plain": [
       "Index(['Product Thickness', 'Pass Number', 'Core Temp (F)', 'Core Temp (K)',\n",
       "       'Strain', 'Strain Rate', 'Flow Stress (Pa)', 'Meas FS (ksi)', 'ln(FS)',\n",
       "       '1/RT', 'ln(Strain)', 'ln(Strain Rate)'],\n",
       "      dtype='object')"
      ]
     },
     "execution_count": 24,
     "metadata": {},
     "output_type": "execute_result"
    }
   ],
   "source": [
    "force1.columns"
   ]
  },
  {
   "cell_type": "code",
   "execution_count": 40,
   "id": "19b7f3d1",
   "metadata": {},
   "outputs": [
    {
     "name": "stdout",
     "output_type": "stream",
     "text": [
      "Optimized coefficients: [7.08028799e-01 4.42999676e+04 7.59688606e-02]\n",
      "RMSE: 8.723095805724483\n",
      "R^2: 0.8083696537362979\n"
     ]
    }
   ],
   "source": [
    "# Define the Zener-Hollomon flow stress curve equation\n",
    "def zener_holloman(c1,c2,c3,RT,strain):\n",
    "    #RT = temperature * 8.314  # assuming gas constant R = 8.314 J/(mol*K)\n",
    "    return c1*np.exp(c2*RT)*(strain ** c3)\n",
    "\n",
    "# Define the objective function to minimize (using mean squared error)\n",
    "def objective_function(coef,RT,strain,measured_values):\n",
    "    predicted_values = zener_holloman(coef[0], coef[1],coef[2], RT,strain)\n",
    "    return np.mean((predicted_values - measured_values) ** 2)\n",
    "\n",
    "#strain = force1['Strain']\n",
    "#strain_rate = force1['Strain Rate']\n",
    "RT= force1['1/RT']\n",
    "strain = force1['Strain']\n",
    "measured_values = force1['Meas FS (ksi)']\n",
    "\n",
    "# Initial guess for coefficients\n",
    "#initial_guess = np.array([5684853.280812844,30600.773266375065,-0.14659341280912486,0.41966654801836967])\n",
    "initial_guess = [1,1,1]\n",
    "\n",
    "\n",
    "#5684853.280812844\n",
    "#30600.773266375065\n",
    "#-0.14659341280912486\n",
    "#0.41966654801836967\n",
    "\n",
    "# Bounds for coefficients\n",
    "#bounds = [(10000, 200000000), (5000, 200000), (0, 1.1), (0, 1.1)]  \n",
    "\n",
    "# Optimize the coefficients using scipy minimize function\n",
    "result = minimize(objective_function, initial_guess, args=(RT,strain, measured_values),tol=1e-10)\n",
    "\n",
    "# Extract optimized coefficients\n",
    "optimized_coefs = result.x\n",
    "\n",
    "# Print optimized coefficients\n",
    "print(\"Optimized coefficients:\", optimized_coefs)\n",
    "\n",
    "# Compute predicted values using optimized coefficients\n",
    "predicted_values = zener_holloman(optimized_coefs[0], optimized_coefs[1],optimized_coefs[2], RT,strain)\n",
    "\n",
    "# Compute RMSE\n",
    "rmse = np.sqrt(mean_squared_error(measured_values, predicted_values))\n",
    "print(\"RMSE:\", rmse)\n",
    "\n",
    "# Compute R^2\n",
    "r2 = r2_score(measured_values, predicted_values)\n",
    "print(\"R^2:\", r2)\n"
   ]
  },
  {
   "cell_type": "markdown",
   "id": "310e91bb",
   "metadata": {},
   "source": [
    "## Multiple Linear Regression"
   ]
  },
  {
   "cell_type": "code",
   "execution_count": 30,
   "id": "d2da6357",
   "metadata": {},
   "outputs": [],
   "source": [
    "X=force1[['Core Temp (F)','Strain']].to_numpy()"
   ]
  },
  {
   "cell_type": "code",
   "execution_count": 31,
   "id": "318c2d90",
   "metadata": {},
   "outputs": [
    {
     "data": {
      "text/html": [
       "<style>#sk-container-id-2 {color: black;}#sk-container-id-2 pre{padding: 0;}#sk-container-id-2 div.sk-toggleable {background-color: white;}#sk-container-id-2 label.sk-toggleable__label {cursor: pointer;display: block;width: 100%;margin-bottom: 0;padding: 0.3em;box-sizing: border-box;text-align: center;}#sk-container-id-2 label.sk-toggleable__label-arrow:before {content: \"▸\";float: left;margin-right: 0.25em;color: #696969;}#sk-container-id-2 label.sk-toggleable__label-arrow:hover:before {color: black;}#sk-container-id-2 div.sk-estimator:hover label.sk-toggleable__label-arrow:before {color: black;}#sk-container-id-2 div.sk-toggleable__content {max-height: 0;max-width: 0;overflow: hidden;text-align: left;background-color: #f0f8ff;}#sk-container-id-2 div.sk-toggleable__content pre {margin: 0.2em;color: black;border-radius: 0.25em;background-color: #f0f8ff;}#sk-container-id-2 input.sk-toggleable__control:checked~div.sk-toggleable__content {max-height: 200px;max-width: 100%;overflow: auto;}#sk-container-id-2 input.sk-toggleable__control:checked~label.sk-toggleable__label-arrow:before {content: \"▾\";}#sk-container-id-2 div.sk-estimator input.sk-toggleable__control:checked~label.sk-toggleable__label {background-color: #d4ebff;}#sk-container-id-2 div.sk-label input.sk-toggleable__control:checked~label.sk-toggleable__label {background-color: #d4ebff;}#sk-container-id-2 input.sk-hidden--visually {border: 0;clip: rect(1px 1px 1px 1px);clip: rect(1px, 1px, 1px, 1px);height: 1px;margin: -1px;overflow: hidden;padding: 0;position: absolute;width: 1px;}#sk-container-id-2 div.sk-estimator {font-family: monospace;background-color: #f0f8ff;border: 1px dotted black;border-radius: 0.25em;box-sizing: border-box;margin-bottom: 0.5em;}#sk-container-id-2 div.sk-estimator:hover {background-color: #d4ebff;}#sk-container-id-2 div.sk-parallel-item::after {content: \"\";width: 100%;border-bottom: 1px solid gray;flex-grow: 1;}#sk-container-id-2 div.sk-label:hover label.sk-toggleable__label {background-color: #d4ebff;}#sk-container-id-2 div.sk-serial::before {content: \"\";position: absolute;border-left: 1px solid gray;box-sizing: border-box;top: 0;bottom: 0;left: 50%;z-index: 0;}#sk-container-id-2 div.sk-serial {display: flex;flex-direction: column;align-items: center;background-color: white;padding-right: 0.2em;padding-left: 0.2em;position: relative;}#sk-container-id-2 div.sk-item {position: relative;z-index: 1;}#sk-container-id-2 div.sk-parallel {display: flex;align-items: stretch;justify-content: center;background-color: white;position: relative;}#sk-container-id-2 div.sk-item::before, #sk-container-id-2 div.sk-parallel-item::before {content: \"\";position: absolute;border-left: 1px solid gray;box-sizing: border-box;top: 0;bottom: 0;left: 50%;z-index: -1;}#sk-container-id-2 div.sk-parallel-item {display: flex;flex-direction: column;z-index: 1;position: relative;background-color: white;}#sk-container-id-2 div.sk-parallel-item:first-child::after {align-self: flex-end;width: 50%;}#sk-container-id-2 div.sk-parallel-item:last-child::after {align-self: flex-start;width: 50%;}#sk-container-id-2 div.sk-parallel-item:only-child::after {width: 0;}#sk-container-id-2 div.sk-dashed-wrapped {border: 1px dashed gray;margin: 0 0.4em 0.5em 0.4em;box-sizing: border-box;padding-bottom: 0.4em;background-color: white;}#sk-container-id-2 div.sk-label label {font-family: monospace;font-weight: bold;display: inline-block;line-height: 1.2em;}#sk-container-id-2 div.sk-label-container {text-align: center;}#sk-container-id-2 div.sk-container {/* jupyter's `normalize.less` sets `[hidden] { display: none; }` but bootstrap.min.css set `[hidden] { display: none !important; }` so we also need the `!important` here to be able to override the default hidden behavior on the sphinx rendered scikit-learn.org. See: https://github.com/scikit-learn/scikit-learn/issues/21755 */display: inline-block !important;position: relative;}#sk-container-id-2 div.sk-text-repr-fallback {display: none;}</style><div id=\"sk-container-id-2\" class=\"sk-top-container\"><div class=\"sk-text-repr-fallback\"><pre>LinearRegression()</pre><b>In a Jupyter environment, please rerun this cell to show the HTML representation or trust the notebook. <br />On GitHub, the HTML representation is unable to render, please try loading this page with nbviewer.org.</b></div><div class=\"sk-container\" hidden><div class=\"sk-item\"><div class=\"sk-estimator sk-toggleable\"><input class=\"sk-toggleable__control sk-hidden--visually\" id=\"sk-estimator-id-2\" type=\"checkbox\" checked><label for=\"sk-estimator-id-2\" class=\"sk-toggleable__label sk-toggleable__label-arrow\">LinearRegression</label><div class=\"sk-toggleable__content\"><pre>LinearRegression()</pre></div></div></div></div></div>"
      ],
      "text/plain": [
       "LinearRegression()"
      ]
     },
     "execution_count": 31,
     "metadata": {},
     "output_type": "execute_result"
    }
   ],
   "source": [
    "y= force1['Meas FS (ksi)']\n",
    "model.fit(X,y)"
   ]
  },
  {
   "cell_type": "code",
   "execution_count": 32,
   "id": "f5698523",
   "metadata": {},
   "outputs": [
    {
     "name": "stdout",
     "output_type": "stream",
     "text": [
      "coefficient of determination: 0.9048512267204486\n"
     ]
    }
   ],
   "source": [
    "r_sq = model.score(X, y)\n",
    "print(f\"coefficient of determination: {r_sq}\")"
   ]
  },
  {
   "cell_type": "code",
   "execution_count": 36,
   "id": "afd2467a",
   "metadata": {},
   "outputs": [
    {
     "name": "stdout",
     "output_type": "stream",
     "text": [
      "intercept: 297.3497961126766\n",
      "coefficients: [-0.14274161 29.24756834]\n"
     ]
    }
   ],
   "source": [
    "print(f\"intercept: {model.intercept_}\")\n",
    "print(f\"coefficients: {model.coef_}\")"
   ]
  },
  {
   "cell_type": "code",
   "execution_count": 34,
   "id": "2bee4d51",
   "metadata": {},
   "outputs": [
    {
     "name": "stdout",
     "output_type": "stream",
     "text": [
      "predicted response:\n",
      "[ 11.96042488  22.47732476  21.49812943  25.83337083  23.50953775\n",
      "  25.46668076  27.13740003  27.86465216  25.92743917  28.45110833\n",
      "  24.68188171  27.77839915  26.31724917  27.68068675  27.51835814\n",
      "  27.90954486  25.69388963  25.3936843   25.75309041  30.16683187\n",
      "  29.55078459  29.8458247   30.8836305   25.86397769  26.04411019\n",
      "  30.27379574  28.90258073  30.5569037   29.92074052  30.53982661\n",
      "  33.81990811  31.38136233  30.57108594  31.76275514  33.64544527\n",
      "  32.88756853  30.67054685  34.49022749  34.30969616  31.13552947\n",
      "  29.33415462  33.40223388  34.95764439  29.83695626  33.73722992\n",
      "  33.05983313  31.15704395  35.24608955  36.82660001  36.60840595\n",
      "  39.46889766  36.30659236  36.27985653  38.07102579  37.84446388\n",
      "  38.15455828  38.60519944  39.89270412  34.0594732   41.08540818\n",
      "  38.6003032   39.86000421  36.54546589  43.52067119  36.60094979\n",
      "  36.54305993  42.16747028  42.79753455  42.457982    44.86531464\n",
      "  44.0356486   40.05742193  43.3167835   44.33055234  46.22384812\n",
      "  41.93424775  46.81939095  46.94277493  46.52525035  44.89664546\n",
      "  47.32920368  50.81626604  46.47768148  50.05865527  45.73277742\n",
      "  52.79702809  55.53165773  52.46498538  55.47223162  58.08120499\n",
      "  57.63380027  57.24901206  54.06597335  58.89090362  60.72230541\n",
      "  61.14794136  65.13332546  65.19375394  70.33508386  69.60918288\n",
      "  68.77416123  72.93746788  77.88102558  81.02988898  85.93255209\n",
      "  91.54854598  96.24286665 101.29053877 105.93857214 114.92996994]\n"
     ]
    }
   ],
   "source": [
    "y_pred = model.predict(X)\n",
    "print(f\"predicted response:\\n{y_pred}\")"
   ]
  },
  {
   "cell_type": "code",
   "execution_count": 37,
   "id": "65333257",
   "metadata": {},
   "outputs": [
    {
     "data": {
      "image/png": "[encoded data removed]",
      "text/plain": [
       "<Figure size 640x480 with 1 Axes>"
      ]
     },
     "metadata": {},
     "output_type": "display_data"
    }
   ],
   "source": [
    "plt.plot(force1['Core Temp (F)'],y,'ro',label='actual')\n",
    "plt.plot(force1['Core Temp (F)'],y_pred,'bo',label='predicted')\n",
    "plt.legend()\n",
    "plt.show()"
   ]
  },
  {
   "cell_type": "markdown",
   "id": "970fbcc0",
   "metadata": {},
   "source": [
    "## ln (C1) + C2/RT +C4*ln(strain rate)"
   ]
  },
  {
   "cell_type": "code",
   "execution_count": 41,
   "id": "4cc191f1",
   "metadata": {},
   "outputs": [
    {
     "name": "stdout",
     "output_type": "stream",
     "text": [
      "Optimized coefficients: [1.09951520e+00 3.46741872e+04 2.09772211e-01]\n",
      "RMSE: 7.214098406419801\n",
      "R^2: 0.8689348816614892\n"
     ]
    }
   ],
   "source": [
    "# Define the Zener-Hollomon flow stress curve equation\n",
    "def zener_holloman(c1,c2,c4,RT,strain_rate):\n",
    "    #RT = temperature * 8.314  # assuming gas constant R = 8.314 J/(mol*K)\n",
    "    return c1*np.exp(c2*RT)*(strain_rate ** c4)\n",
    "\n",
    "# Define the objective function to minimize (using mean squared error)\n",
    "def objective_function(coef,RT,strain_rate,measured_values):\n",
    "    predicted_values = zener_holloman(coef[0], coef[1],coef[2], RT,strain_rate)\n",
    "    return np.mean((predicted_values - measured_values) ** 2)\n",
    "\n",
    "#strain = force1['Strain']\n",
    "#strain_rate = force1['Strain Rate']\n",
    "RT= force1['1/RT']\n",
    "strain_rate = force1['Strain Rate']\n",
    "measured_values = force1['Meas FS (ksi)']\n",
    "\n",
    "# Initial guess for coefficients\n",
    "#initial_guess = np.array([5684853.280812844,30600.773266375065,-0.14659341280912486,0.41966654801836967])\n",
    "initial_guess = [1,1,1]\n",
    "\n",
    "\n",
    "#5684853.280812844\n",
    "#30600.773266375065\n",
    "#-0.14659341280912486\n",
    "#0.41966654801836967\n",
    "\n",
    "# Bounds for coefficients\n",
    "#bounds = [(10000, 200000000), (5000, 200000), (0, 1.1), (0, 1.1)]  \n",
    "\n",
    "# Optimize the coefficients using scipy minimize function\n",
    "result = minimize(objective_function, initial_guess, args=(RT, strain_rate, measured_values),tol=1e-10)\n",
    "\n",
    "# Extract optimized coefficients\n",
    "optimized_coefs = result.x\n",
    "\n",
    "# Print optimized coefficients\n",
    "print(\"Optimized coefficients:\", optimized_coefs)\n",
    "\n",
    "# Compute predicted values using optimized coefficients\n",
    "predicted_values = zener_holloman(optimized_coefs[0], optimized_coefs[1],optimized_coefs[2], RT,strain_rate)\n",
    "\n",
    "# Compute RMSE\n",
    "rmse = np.sqrt(mean_squared_error(measured_values, predicted_values))\n",
    "print(\"RMSE:\", rmse)\n",
    "\n",
    "# Compute R^2\n",
    "r2 = r2_score(measured_values, predicted_values)\n",
    "print(\"R^2:\", r2)\n"
   ]
  },
  {
   "cell_type": "markdown",
   "id": "679d261a",
   "metadata": {},
   "source": [
    "## Multiple Linear Regression"
   ]
  },
  {
   "cell_type": "code",
   "execution_count": 43,
   "id": "8255c4d1",
   "metadata": {},
   "outputs": [],
   "source": [
    "X=force1[['Core Temp (F)','Strain Rate']].to_numpy()"
   ]
  },
  {
   "cell_type": "code",
   "execution_count": 44,
   "id": "92250d73",
   "metadata": {},
   "outputs": [
    {
     "data": {
      "text/html": [
       "<style>#sk-container-id-3 {color: black;}#sk-container-id-3 pre{padding: 0;}#sk-container-id-3 div.sk-toggleable {background-color: white;}#sk-container-id-3 label.sk-toggleable__label {cursor: pointer;display: block;width: 100%;margin-bottom: 0;padding: 0.3em;box-sizing: border-box;text-align: center;}#sk-container-id-3 label.sk-toggleable__label-arrow:before {content: \"▸\";float: left;margin-right: 0.25em;color: #696969;}#sk-container-id-3 label.sk-toggleable__label-arrow:hover:before {color: black;}#sk-container-id-3 div.sk-estimator:hover label.sk-toggleable__label-arrow:before {color: black;}#sk-container-id-3 div.sk-toggleable__content {max-height: 0;max-width: 0;overflow: hidden;text-align: left;background-color: #f0f8ff;}#sk-container-id-3 div.sk-toggleable__content pre {margin: 0.2em;color: black;border-radius: 0.25em;background-color: #f0f8ff;}#sk-container-id-3 input.sk-toggleable__control:checked~div.sk-toggleable__content {max-height: 200px;max-width: 100%;overflow: auto;}#sk-container-id-3 input.sk-toggleable__control:checked~label.sk-toggleable__label-arrow:before {content: \"▾\";}#sk-container-id-3 div.sk-estimator input.sk-toggleable__control:checked~label.sk-toggleable__label {background-color: #d4ebff;}#sk-container-id-3 div.sk-label input.sk-toggleable__control:checked~label.sk-toggleable__label {background-color: #d4ebff;}#sk-container-id-3 input.sk-hidden--visually {border: 0;clip: rect(1px 1px 1px 1px);clip: rect(1px, 1px, 1px, 1px);height: 1px;margin: -1px;overflow: hidden;padding: 0;position: absolute;width: 1px;}#sk-container-id-3 div.sk-estimator {font-family: monospace;background-color: #f0f8ff;border: 1px dotted black;border-radius: 0.25em;box-sizing: border-box;margin-bottom: 0.5em;}#sk-container-id-3 div.sk-estimator:hover {background-color: #d4ebff;}#sk-container-id-3 div.sk-parallel-item::after {content: \"\";width: 100%;border-bottom: 1px solid gray;flex-grow: 1;}#sk-container-id-3 div.sk-label:hover label.sk-toggleable__label {background-color: #d4ebff;}#sk-container-id-3 div.sk-serial::before {content: \"\";position: absolute;border-left: 1px solid gray;box-sizing: border-box;top: 0;bottom: 0;left: 50%;z-index: 0;}#sk-container-id-3 div.sk-serial {display: flex;flex-direction: column;align-items: center;background-color: white;padding-right: 0.2em;padding-left: 0.2em;position: relative;}#sk-container-id-3 div.sk-item {position: relative;z-index: 1;}#sk-container-id-3 div.sk-parallel {display: flex;align-items: stretch;justify-content: center;background-color: white;position: relative;}#sk-container-id-3 div.sk-item::before, #sk-container-id-3 div.sk-parallel-item::before {content: \"\";position: absolute;border-left: 1px solid gray;box-sizing: border-box;top: 0;bottom: 0;left: 50%;z-index: -1;}#sk-container-id-3 div.sk-parallel-item {display: flex;flex-direction: column;z-index: 1;position: relative;background-color: white;}#sk-container-id-3 div.sk-parallel-item:first-child::after {align-self: flex-end;width: 50%;}#sk-container-id-3 div.sk-parallel-item:last-child::after {align-self: flex-start;width: 50%;}#sk-container-id-3 div.sk-parallel-item:only-child::after {width: 0;}#sk-container-id-3 div.sk-dashed-wrapped {border: 1px dashed gray;margin: 0 0.4em 0.5em 0.4em;box-sizing: border-box;padding-bottom: 0.4em;background-color: white;}#sk-container-id-3 div.sk-label label {font-family: monospace;font-weight: bold;display: inline-block;line-height: 1.2em;}#sk-container-id-3 div.sk-label-container {text-align: center;}#sk-container-id-3 div.sk-container {/* jupyter's `normalize.less` sets `[hidden] { display: none; }` but bootstrap.min.css set `[hidden] { display: none !important; }` so we also need the `!important` here to be able to override the default hidden behavior on the sphinx rendered scikit-learn.org. See: https://github.com/scikit-learn/scikit-learn/issues/21755 */display: inline-block !important;position: relative;}#sk-container-id-3 div.sk-text-repr-fallback {display: none;}</style><div id=\"sk-container-id-3\" class=\"sk-top-container\"><div class=\"sk-text-repr-fallback\"><pre>LinearRegression()</pre><b>In a Jupyter environment, please rerun this cell to show the HTML representation or trust the notebook. <br />On GitHub, the HTML representation is unable to render, please try loading this page with nbviewer.org.</b></div><div class=\"sk-container\" hidden><div class=\"sk-item\"><div class=\"sk-estimator sk-toggleable\"><input class=\"sk-toggleable__control sk-hidden--visually\" id=\"sk-estimator-id-3\" type=\"checkbox\" checked><label for=\"sk-estimator-id-3\" class=\"sk-toggleable__label sk-toggleable__label-arrow\">LinearRegression</label><div class=\"sk-toggleable__content\"><pre>LinearRegression()</pre></div></div></div></div></div>"
      ],
      "text/plain": [
       "LinearRegression()"
      ]
     },
     "execution_count": 44,
     "metadata": {},
     "output_type": "execute_result"
    }
   ],
   "source": [
    "y= force1['Meas FS (ksi)']\n",
    "model.fit(X,y)"
   ]
  },
  {
   "cell_type": "code",
   "execution_count": 45,
   "id": "28167b56",
   "metadata": {},
   "outputs": [
    {
     "name": "stdout",
     "output_type": "stream",
     "text": [
      "coefficient of determination: 0.9106415658884466\n"
     ]
    }
   ],
   "source": [
    "r_sq = model.score(X, y)\n",
    "print(f\"coefficient of determination: {r_sq}\")"
   ]
  },
  {
   "cell_type": "code",
   "execution_count": 46,
   "id": "2ddfd8d2",
   "metadata": {},
   "outputs": [
    {
     "name": "stdout",
     "output_type": "stream",
     "text": [
      "intercept: 263.311897772723\n",
      "coefficients: [-0.12469333  1.02461118]\n"
     ]
    }
   ],
   "source": [
    "print(f\"intercept: {model.intercept_}\")\n",
    "print(f\"coefficients: {model.coef_}\")"
   ]
  },
  {
   "cell_type": "code",
   "execution_count": 47,
   "id": "9f65c8d0",
   "metadata": {},
   "outputs": [
    {
     "name": "stdout",
     "output_type": "stream",
     "text": [
      "predicted response:\n",
      "[ 14.14367108  24.25897521  22.81429855  25.33470215  24.78108256\n",
      "  25.62797441  27.28850403  26.93492938  26.93890113  27.83978332\n",
      "  26.05537867  27.33011601  26.71874661  27.43139126  27.4843054\n",
      "  27.79811663  26.93511392  26.24895591  26.89689909  30.04427021\n",
      "  29.29500872  28.99262801  27.79272863  26.44805478  26.84406927\n",
      "  28.7058192   28.87216096  29.72639059  29.51189816  30.67806422\n",
      "  32.70443663  29.87539005  30.2015085   31.11647619  33.5444423\n",
      "  32.46264657  30.45391883  32.14997603  32.55632209  32.22260562\n",
      "  29.91630871  32.1222381   32.69735226  30.1299454   32.82745855\n",
      "  33.68480714  30.95501987  35.14086334  34.98413145  35.87897938\n",
      "  38.3902781   34.03190061  39.57963173  36.18203318  37.71838683\n",
      "  33.62861904  42.72188421  38.20084959  33.89086752  39.95162092\n",
      "  37.42051596  38.83853211  36.51137918  43.98866687  36.41049722\n",
      "  36.26464618  41.46944786  42.75320517  40.73304752  46.25487688\n",
      "  46.58299004  43.67603792  41.89567707  42.94753489  47.79024819\n",
      "  41.10046004  46.36954633  44.5157083   45.20455203  43.26943667\n",
      "  53.35468708  49.22266737  50.03361725  52.61841084  46.37032095\n",
      "  54.40855304  54.44567942  53.70356362  54.97505033  51.32190726\n",
      "  55.84229717  58.04624729  56.14411875  61.06206097  64.15638213\n",
      "  63.93167929  64.65730213  71.11189547  73.72346867  69.46139632\n",
      "  65.76410877  74.0112474   80.78304368  83.18389233  87.52270114\n",
      "  89.95130095  97.00950207  96.7578626  104.63347922 112.40095146]\n"
     ]
    }
   ],
   "source": [
    "y_pred = model.predict(X)\n",
    "print(f\"predicted response:\\n{y_pred}\")"
   ]
  },
  {
   "cell_type": "code",
   "execution_count": 48,
   "id": "623be4a9",
   "metadata": {},
   "outputs": [
    {
     "data": {
      "image/png": "[encoded data removed]",
      "text/plain": [
       "<Figure size 640x480 with 1 Axes>"
      ]
     },
     "metadata": {},
     "output_type": "display_data"
    }
   ],
   "source": [
    "plt.plot(force1['Core Temp (F)'],y,'ro',label='actual')\n",
    "plt.plot(force1['Core Temp (F)'],y_pred,'bo',label='predicted')\n",
    "plt.legend()\n",
    "plt.show()"
   ]
  },
  {
   "cell_type": "markdown",
   "id": "357f81b1",
   "metadata": {},
   "source": [
    "### For the variations, $ln(C1) + C2/RT + C4 * ln(strain_rate)$, yields the best result correlation-wise.\n",
    "\n",
    "-Optimizer : $R^2 =86.8%$\n",
    "\n",
    "-Linear Regression : $R^2 = 91%$"
   ]
  },
  {
   "cell_type": "code",
   "execution_count": null,
   "id": "19fe8330",
   "metadata": {},
   "outputs": [],
   "source": []
  }
 ],
 "metadata": {
  "kernelspec": {
   "display_name": "Python 3 (ipykernel)",
   "language": "python",
   "name": "python3"
  },
  "language_info": {
   "codemirror_mode": {
    "name": "ipython",
    "version": 3
   },
   "file_extension": ".py",
   "mimetype": "text/x-python",
   "name": "python",
   "nbconvert_exporter": "python",
   "pygments_lexer": "ipython3",
   "version": "3.11.5"
  }
 },
 "nbformat": 4,
 "nbformat_minor": 5
}
