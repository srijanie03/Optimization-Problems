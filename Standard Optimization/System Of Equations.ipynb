{
 "cells": [
  {
   "cell_type": "code",
   "execution_count": 1,
   "id": "94df899c",
   "metadata": {},
   "outputs": [],
   "source": [
    "import numpy as np\n",
    "import pandas as pd\n",
    "import matplotlib.pyplot as plt"
   ]
  },
  {
   "cell_type": "markdown",
   "id": "7a0f1e45",
   "metadata": {},
   "source": [
    "### Example to solve system of equations"
   ]
  },
  {
   "cell_type": "code",
   "execution_count": 2,
   "id": "5ed34a72",
   "metadata": {},
   "outputs": [
    {
     "data": {
      "text/plain": [
       "array([ 1.55579655e+01,  3.05363045e+04, -1.46901827e-01,  4.20251956e-01])"
      ]
     },
     "execution_count": 2,
     "metadata": {},
     "output_type": "execute_result"
    }
   ],
   "source": [
    "import numpy as np\n",
    "\n",
    "#define left-hand side of equation\n",
    "left_side = np.array([[110,0.010536942, -267.3097618,145.8795169],\n",
    "                      [0.010536942, 1.0138E-06,-0.025573291,0.01429025], \n",
    "                      [-267.3097618, -0.025573291,812.8222668,-264.9366099],\n",
    "                      [145.8795169, 0.01429025, -264.9366099,275.5141434]])\n",
    "\n",
    "#define right-hand side of equation\n",
    "right_side = np.array([2133.709916,0.204653354,-5170.45505,2860.664942])\n",
    "\n",
    "#solve for w, x, y, and z\n",
    "np.linalg.inv(left_side).dot(right_side)"
   ]
  },
  {
   "cell_type": "markdown",
   "id": "4f92c40c",
   "metadata": {},
   "source": [
    "### Example data to re-create the problem"
   ]
  },
  {
   "cell_type": "code",
   "execution_count": 3,
   "id": "3776089c",
   "metadata": {},
   "outputs": [],
   "source": [
    "force1=pd.read_excel('ForceData_1.xlsx')"
   ]
  },
  {
   "cell_type": "code",
   "execution_count": 4,
   "id": "3e7ad428",
   "metadata": {},
   "outputs": [
    {
     "data": {
      "text/html": [
       "<div>\n",
       "<style scoped>\n",
       "    .dataframe tbody tr th:only-of-type {\n",
       "        vertical-align: middle;\n",
       "    }\n",
       "\n",
       "    .dataframe tbody tr th {\n",
       "        vertical-align: top;\n",
       "    }\n",
       "\n",
       "    .dataframe thead th {\n",
       "        text-align: right;\n",
       "    }\n",
       "</style>\n",
       "<table border=\"1\" class=\"dataframe\">\n",
       "  <thead>\n",
       "    <tr style=\"text-align: right;\">\n",
       "      <th></th>\n",
       "      <th>Product Thickness</th>\n",
       "      <th>Pass Number</th>\n",
       "      <th>Core Temp (F)</th>\n",
       "      <th>Core Temp (K)</th>\n",
       "      <th>Strain</th>\n",
       "      <th>Strain Rate</th>\n",
       "      <th>Flow Stress (Pa)</th>\n",
       "      <th>Meas FS (ksi)</th>\n",
       "      <th>ln(FS)</th>\n",
       "      <th>1/RT</th>\n",
       "      <th>ln(Strain)</th>\n",
       "      <th>ln(Strain Rate)</th>\n",
       "    </tr>\n",
       "  </thead>\n",
       "  <tbody>\n",
       "    <tr>\n",
       "      <th>0</th>\n",
       "      <td>0.500</td>\n",
       "      <td>1</td>\n",
       "      <td>2005.255315</td>\n",
       "      <td>1369.402953</td>\n",
       "      <td>0.028857</td>\n",
       "      <td>0.852749</td>\n",
       "      <td>1.891260e+07</td>\n",
       "      <td>2.743040</td>\n",
       "      <td>16.755339</td>\n",
       "      <td>0.000088</td>\n",
       "      <td>-3.545403</td>\n",
       "      <td>-0.159291</td>\n",
       "    </tr>\n",
       "    <tr>\n",
       "      <th>1</th>\n",
       "      <td>0.625</td>\n",
       "      <td>6</td>\n",
       "      <td>1933.607740</td>\n",
       "      <td>1329.598745</td>\n",
       "      <td>0.038766</td>\n",
       "      <td>2.005702</td>\n",
       "      <td>1.635305e+08</td>\n",
       "      <td>23.718087</td>\n",
       "      <td>18.912510</td>\n",
       "      <td>0.000090</td>\n",
       "      <td>-3.250216</td>\n",
       "      <td>0.695994</td>\n",
       "    </tr>\n",
       "    <tr>\n",
       "      <th>2</th>\n",
       "      <td>1.000</td>\n",
       "      <td>4</td>\n",
       "      <td>1933.410319</td>\n",
       "      <td>1329.489066</td>\n",
       "      <td>0.004323</td>\n",
       "      <td>0.571701</td>\n",
       "      <td>1.253132e+08</td>\n",
       "      <td>18.175144</td>\n",
       "      <td>18.646327</td>\n",
       "      <td>0.000090</td>\n",
       "      <td>-5.443858</td>\n",
       "      <td>-0.559139</td>\n",
       "    </tr>\n",
       "    <tr>\n",
       "      <th>3</th>\n",
       "      <td>0.375</td>\n",
       "      <td>2</td>\n",
       "      <td>1928.884342</td>\n",
       "      <td>1326.974634</td>\n",
       "      <td>0.130460</td>\n",
       "      <td>2.480761</td>\n",
       "      <td>1.291659e+08</td>\n",
       "      <td>18.733925</td>\n",
       "      <td>18.676608</td>\n",
       "      <td>0.000091</td>\n",
       "      <td>-2.036691</td>\n",
       "      <td>0.908566</td>\n",
       "    </tr>\n",
       "    <tr>\n",
       "      <th>4</th>\n",
       "      <td>1.000</td>\n",
       "      <td>5</td>\n",
       "      <td>1925.099331</td>\n",
       "      <td>1324.871850</td>\n",
       "      <td>0.032533</td>\n",
       "      <td>1.479811</td>\n",
       "      <td>1.403631e+08</td>\n",
       "      <td>20.357943</td>\n",
       "      <td>18.759743</td>\n",
       "      <td>0.000091</td>\n",
       "      <td>-3.425496</td>\n",
       "      <td>0.391914</td>\n",
       "    </tr>\n",
       "  </tbody>\n",
       "</table>\n",
       "</div>"
      ],
      "text/plain": [
       "   Product Thickness  Pass Number  Core Temp (F)  Core Temp (K)    Strain  \\\n",
       "0              0.500            1    2005.255315    1369.402953  0.028857   \n",
       "1              0.625            6    1933.607740    1329.598745  0.038766   \n",
       "2              1.000            4    1933.410319    1329.489066  0.004323   \n",
       "3              0.375            2    1928.884342    1326.974634  0.130460   \n",
       "4              1.000            5    1925.099331    1324.871850  0.032533   \n",
       "\n",
       "   Strain Rate  Flow Stress (Pa)  Meas FS (ksi)     ln(FS)      1/RT  \\\n",
       "0     0.852749      1.891260e+07       2.743040  16.755339  0.000088   \n",
       "1     2.005702      1.635305e+08      23.718087  18.912510  0.000090   \n",
       "2     0.571701      1.253132e+08      18.175144  18.646327  0.000090   \n",
       "3     2.480761      1.291659e+08      18.733925  18.676608  0.000091   \n",
       "4     1.479811      1.403631e+08      20.357943  18.759743  0.000091   \n",
       "\n",
       "   ln(Strain)  ln(Strain Rate)  \n",
       "0   -3.545403        -0.159291  \n",
       "1   -3.250216         0.695994  \n",
       "2   -5.443858        -0.559139  \n",
       "3   -2.036691         0.908566  \n",
       "4   -3.425496         0.391914  "
      ]
     },
     "execution_count": 4,
     "metadata": {},
     "output_type": "execute_result"
    }
   ],
   "source": [
    "force1.head()"
   ]
  },
  {
   "cell_type": "code",
   "execution_count": 5,
   "id": "758eab8b",
   "metadata": {},
   "outputs": [
    {
     "data": {
      "text/plain": [
       "Index(['Product Thickness', 'Pass Number', 'Core Temp (F)', 'Core Temp (K)',\n",
       "       'Strain', 'Strain Rate', 'Flow Stress (Pa)', 'Meas FS (ksi)', 'ln(FS)',\n",
       "       '1/RT', 'ln(Strain)', 'ln(Strain Rate)'],\n",
       "      dtype='object')"
      ]
     },
     "execution_count": 5,
     "metadata": {},
     "output_type": "execute_result"
    }
   ],
   "source": [
    "force1.columns"
   ]
  },
  {
   "cell_type": "markdown",
   "id": "6ba72219",
   "metadata": {},
   "source": [
    "### Form the system of equations as governed by the Zener-Holloman equation"
   ]
  },
  {
   "cell_type": "markdown",
   "id": "e3862642",
   "metadata": {},
   "source": [
    "$\\sigma = Ae^{\\Lambda/RT} \\epsilon^{m} \\epsilon'^{n}$\n",
    "\n",
    "where, \n",
    "\n",
    "$\\sigma =$ Force\n",
    "\n",
    "$A =$ material base hardness\n",
    "\n",
    "$\\Lambda =$ activation energy\n",
    "\n",
    "$R =$ Gas constant 8.31432\n",
    "\n",
    "$T =$ Core Temperature\n",
    "\n",
    "$\\epsilon =$ Strain\n",
    "\n",
    "$\\epsilon' =$ Strain Rate\n",
    "\n",
    "We linearize it as:\n",
    "\n",
    "$ln(\\sigma) = ln(A) + \\Lambda/RT + m*ln(\\epsilon) + n*ln(\\epsilon')$"
   ]
  },
  {
   "cell_type": "code",
   "execution_count": 6,
   "id": "f418eea6",
   "metadata": {},
   "outputs": [],
   "source": [
    "#define left-hand side of equation\n",
    "left_side = np.array([[len(force1), force1['1/RT'].sum(), force1['ln(Strain)'].sum(),force1['ln(Strain Rate)'].sum()],\n",
    "                     [force1['1/RT'].sum(), (np.power(force1['1/RT'],2)).sum(),(force1['1/RT']*force1['ln(Strain)']).sum(),(force1['1/RT']*force1['ln(Strain Rate)']).sum()], \n",
    "                      [force1['ln(Strain)'].sum(), (force1['1/RT']*force1['ln(Strain)']).sum(),(np.power(force1['ln(Strain)'],2)).sum(),(force1['ln(Strain)']*force1['ln(Strain Rate)']).sum()],\n",
    "                      [force1['ln(Strain Rate)'].sum(), (force1['1/RT']*force1['ln(Strain Rate)']).sum(), (force1['ln(Strain)']*force1['ln(Strain Rate)']).sum(),(np.power(force1['ln(Strain Rate)'],2)).sum()]])\n",
    "\n",
    "#define right-hand side of equation\n",
    "#right_side = np.array([2133.709916,0.204653354,-5170.45505,2860.664942])\n",
    "right_side = np.array([force1['ln(FS)'].sum(),(force1['ln(FS)']*force1['1/RT']).sum(),(force1['ln(FS)']*force1['ln(Strain)']).sum(),(force1['ln(FS)']*force1['ln(Strain Rate)']).sum()])\n",
    "\n",
    "#solve for c1,c2,c3,c4\n",
    "sol=np.linalg.inv(left_side).dot(right_side)"
   ]
  },
  {
   "cell_type": "markdown",
   "id": "4b219b86",
   "metadata": {},
   "source": [
    "#### Checking the values below to make sure they are correct"
   ]
  },
  {
   "cell_type": "code",
   "execution_count": 7,
   "id": "a2550e18",
   "metadata": {},
   "outputs": [
    {
     "data": {
      "text/plain": [
       "-2.816627397794231"
      ]
     },
     "execution_count": 7,
     "metadata": {},
     "output_type": "execute_result"
    }
   ],
   "source": [
    "force1['1/RT'].sum()*force1['ln(Strain)'].sum()"
   ]
  },
  {
   "cell_type": "code",
   "execution_count": 8,
   "id": "a7495c29",
   "metadata": {},
   "outputs": [
    {
     "data": {
      "text/plain": [
       "-0.0255732905207855"
      ]
     },
     "execution_count": 8,
     "metadata": {},
     "output_type": "execute_result"
    }
   ],
   "source": [
    "(force1['1/RT']*force1['ln(Strain)']).sum()"
   ]
  },
  {
   "cell_type": "code",
   "execution_count": 9,
   "id": "5b75bab6",
   "metadata": {},
   "outputs": [
    {
     "data": {
      "text/plain": [
       "2133.709916346965"
      ]
     },
     "execution_count": 9,
     "metadata": {},
     "output_type": "execute_result"
    }
   ],
   "source": [
    "force1['ln(FS)'].sum()"
   ]
  },
  {
   "cell_type": "code",
   "execution_count": 10,
   "id": "40aa5a54",
   "metadata": {},
   "outputs": [
    {
     "data": {
      "text/plain": [
       "0.20465335423816353"
      ]
     },
     "execution_count": 10,
     "metadata": {},
     "output_type": "execute_result"
    }
   ],
   "source": [
    "(force1['ln(FS)']*force1['1/RT']).sum()"
   ]
  },
  {
   "cell_type": "code",
   "execution_count": 11,
   "id": "5acd27d2",
   "metadata": {},
   "outputs": [
    {
     "data": {
      "text/plain": [
       "-5170.455050153766"
      ]
     },
     "execution_count": 11,
     "metadata": {},
     "output_type": "execute_result"
    }
   ],
   "source": [
    "(force1['ln(FS)']*force1['ln(Strain)']).sum()"
   ]
  },
  {
   "cell_type": "code",
   "execution_count": 12,
   "id": "dacd9c7a",
   "metadata": {},
   "outputs": [
    {
     "data": {
      "text/plain": [
       "2860.664942066655"
      ]
     },
     "execution_count": 12,
     "metadata": {},
     "output_type": "execute_result"
    }
   ],
   "source": [
    "(force1['ln(FS)']*force1['ln(Strain Rate)']).sum()"
   ]
  },
  {
   "cell_type": "markdown",
   "id": "55079854",
   "metadata": {},
   "source": [
    "### Solutions to the system of equations"
   ]
  },
  {
   "cell_type": "code",
   "execution_count": 13,
   "id": "f9c92ef0",
   "metadata": {},
   "outputs": [],
   "source": [
    "c1=np.exp(sol[0])\n",
    "c2=sol[1]\n",
    "c3=sol[2]\n",
    "c4=sol[3]"
   ]
  },
  {
   "cell_type": "code",
   "execution_count": 14,
   "id": "8686caa0",
   "metadata": {},
   "outputs": [
    {
     "name": "stdout",
     "output_type": "stream",
     "text": [
      "5684853.280812844\n",
      "30600.773266375065\n",
      "-0.14659341280912486\n",
      "0.41966654801836967\n"
     ]
    }
   ],
   "source": [
    "print(c1)\n",
    "print(c2)\n",
    "print(c3)\n",
    "print(c4)"
   ]
  },
  {
   "cell_type": "markdown",
   "id": "56057eec",
   "metadata": {},
   "source": [
    "### Calculating force using Zener-Holloman equation and c1,c2,c3,c4 "
   ]
  },
  {
   "cell_type": "code",
   "execution_count": 15,
   "id": "be374d41",
   "metadata": {},
   "outputs": [],
   "source": [
    "## Converting to ksi (multipy by 1.4503773773E-7 )\n",
    "force1['pred']=(c1*np.exp(c2*force1['1/RT'])*np.power(force1['Strain'],c3)*np.power(force1['Strain Rate'],c4))*1.4503773773E-7"
   ]
  },
  {
   "cell_type": "markdown",
   "id": "a0fea130",
   "metadata": {},
   "source": [
    "### Meas vs Pred Plot"
   ]
  },
  {
   "cell_type": "code",
   "execution_count": 16,
   "id": "b389a5a0",
   "metadata": {},
   "outputs": [
    {
     "data": {
      "image/png": "[encoded data removed]",
      "text/plain": [
       "<Figure size 640x480 with 1 Axes>"
      ]
     },
     "metadata": {},
     "output_type": "display_data"
    }
   ],
   "source": [
    "plt.plot(force1['Core Temp (F)'],force1['Meas FS (ksi)'],'ro',label='actual')\n",
    "plt.plot(force1['Core Temp (F)'],force1['pred'],'bo', label='predicted')\n",
    "plt.grid(color='g', ls=':', alpha=0.5)\n",
    "plt.legend()\n",
    "plt.show()"
   ]
  },
  {
   "cell_type": "code",
   "execution_count": null,
   "id": "0ae1d7df",
   "metadata": {},
   "outputs": [],
   "source": []
  }
 ],
 "metadata": {
  "kernelspec": {
   "display_name": "Python 3 (ipykernel)",
   "language": "python",
   "name": "python3"
  },
  "language_info": {
   "codemirror_mode": {
    "name": "ipython",
    "version": 3
   },
   "file_extension": ".py",
   "mimetype": "text/x-python",
   "name": "python",
   "nbconvert_exporter": "python",
   "pygments_lexer": "ipython3",
   "version": "3.9.7"
  }
 },
 "nbformat": 4,
 "nbformat_minor": 5
}
