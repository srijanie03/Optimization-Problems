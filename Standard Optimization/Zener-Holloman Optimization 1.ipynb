{
 "cells": [
  {
   "cell_type": "markdown",
   "id": "3f530133",
   "metadata": {},
   "source": [
    "# Using Linear Regression to Optimize the objective function"
   ]
  },
  {
   "cell_type": "code",
   "execution_count": 1,
   "id": "9228e1da",
   "metadata": {},
   "outputs": [],
   "source": [
    "import numpy as np\n",
    "import pandas as pd\n",
    "import matplotlib.pyplot as plt\n",
    "from sklearn.metrics import mean_squared_error\n",
    "from sklearn import metrics\n",
    "from scipy.optimize import minimize"
   ]
  },
  {
   "cell_type": "markdown",
   "id": "9e5b2dd0",
   "metadata": {},
   "source": [
    "### Example to solve system of equations"
   ]
  },
  {
   "cell_type": "code",
   "execution_count": 2,
   "id": "59685b8e",
   "metadata": {},
   "outputs": [
    {
     "data": {
      "text/plain": [
       "array([ 1.55579655e+01,  3.05363045e+04, -1.46901827e-01,  4.20251956e-01])"
      ]
     },
     "execution_count": 2,
     "metadata": {},
     "output_type": "execute_result"
    }
   ],
   "source": [
    "import numpy as np\n",
    "\n",
    "#define left-hand side of equation\n",
    "left_side = np.array([[110,0.010536942, -267.3097618,145.8795169],\n",
    "                      [0.010536942, 1.0138E-06,-0.025573291,0.01429025], \n",
    "                      [-267.3097618, -0.025573291,812.8222668,-264.9366099],\n",
    "                      [145.8795169, 0.01429025, -264.9366099,275.5141434]])\n",
    "\n",
    "#define right-hand side of equation\n",
    "right_side = np.array([2133.709916,0.204653354,-5170.45505,2860.664942])\n",
    "\n",
    "#solve for w, x, y, and z\n",
    "np.linalg.inv(left_side).dot(right_side)"
   ]
  },
  {
   "cell_type": "markdown",
   "id": "38eed9b8",
   "metadata": {},
   "source": [
    "### Example data (Invar) to re-create the problem"
   ]
  },
  {
   "cell_type": "code",
   "execution_count": 3,
   "id": "5f1b5c60",
   "metadata": {},
   "outputs": [],
   "source": [
    "force1=pd.read_excel('ForceData_1.xlsx')"
   ]
  },
  {
   "cell_type": "code",
   "execution_count": 4,
   "id": "0f514011",
   "metadata": {},
   "outputs": [
    {
     "data": {
      "text/html": [
       "<div>\n",
       "<style scoped>\n",
       "    .dataframe tbody tr th:only-of-type {\n",
       "        vertical-align: middle;\n",
       "    }\n",
       "\n",
       "    .dataframe tbody tr th {\n",
       "        vertical-align: top;\n",
       "    }\n",
       "\n",
       "    .dataframe thead th {\n",
       "        text-align: right;\n",
       "    }\n",
       "</style>\n",
       "<table border=\"1\" class=\"dataframe\">\n",
       "  <thead>\n",
       "    <tr style=\"text-align: right;\">\n",
       "      <th></th>\n",
       "      <th>Product Thickness</th>\n",
       "      <th>Pass Number</th>\n",
       "      <th>Core Temp (F)</th>\n",
       "      <th>Core Temp (K)</th>\n",
       "      <th>Strain</th>\n",
       "      <th>Strain Rate</th>\n",
       "      <th>Flow Stress (Pa)</th>\n",
       "      <th>Meas FS (ksi)</th>\n",
       "      <th>ln(FS)</th>\n",
       "      <th>1/RT</th>\n",
       "      <th>ln(Strain)</th>\n",
       "      <th>ln(Strain Rate)</th>\n",
       "    </tr>\n",
       "  </thead>\n",
       "  <tbody>\n",
       "    <tr>\n",
       "      <th>0</th>\n",
       "      <td>0.500</td>\n",
       "      <td>1</td>\n",
       "      <td>2005.255315</td>\n",
       "      <td>1369.402953</td>\n",
       "      <td>0.028857</td>\n",
       "      <td>0.852749</td>\n",
       "      <td>1.891260e+07</td>\n",
       "      <td>2.743040</td>\n",
       "      <td>16.755339</td>\n",
       "      <td>0.000088</td>\n",
       "      <td>-3.545403</td>\n",
       "      <td>-0.159291</td>\n",
       "    </tr>\n",
       "    <tr>\n",
       "      <th>1</th>\n",
       "      <td>0.625</td>\n",
       "      <td>6</td>\n",
       "      <td>1933.607740</td>\n",
       "      <td>1329.598745</td>\n",
       "      <td>0.038766</td>\n",
       "      <td>2.005702</td>\n",
       "      <td>1.635305e+08</td>\n",
       "      <td>23.718087</td>\n",
       "      <td>18.912510</td>\n",
       "      <td>0.000090</td>\n",
       "      <td>-3.250216</td>\n",
       "      <td>0.695994</td>\n",
       "    </tr>\n",
       "    <tr>\n",
       "      <th>2</th>\n",
       "      <td>1.000</td>\n",
       "      <td>4</td>\n",
       "      <td>1933.410319</td>\n",
       "      <td>1329.489066</td>\n",
       "      <td>0.004323</td>\n",
       "      <td>0.571701</td>\n",
       "      <td>1.253132e+08</td>\n",
       "      <td>18.175144</td>\n",
       "      <td>18.646327</td>\n",
       "      <td>0.000090</td>\n",
       "      <td>-5.443858</td>\n",
       "      <td>-0.559139</td>\n",
       "    </tr>\n",
       "    <tr>\n",
       "      <th>3</th>\n",
       "      <td>0.375</td>\n",
       "      <td>2</td>\n",
       "      <td>1928.884342</td>\n",
       "      <td>1326.974634</td>\n",
       "      <td>0.130460</td>\n",
       "      <td>2.480761</td>\n",
       "      <td>1.291659e+08</td>\n",
       "      <td>18.733925</td>\n",
       "      <td>18.676608</td>\n",
       "      <td>0.000091</td>\n",
       "      <td>-2.036691</td>\n",
       "      <td>0.908566</td>\n",
       "    </tr>\n",
       "    <tr>\n",
       "      <th>4</th>\n",
       "      <td>1.000</td>\n",
       "      <td>5</td>\n",
       "      <td>1925.099331</td>\n",
       "      <td>1324.871850</td>\n",
       "      <td>0.032533</td>\n",
       "      <td>1.479811</td>\n",
       "      <td>1.403631e+08</td>\n",
       "      <td>20.357943</td>\n",
       "      <td>18.759743</td>\n",
       "      <td>0.000091</td>\n",
       "      <td>-3.425496</td>\n",
       "      <td>0.391914</td>\n",
       "    </tr>\n",
       "  </tbody>\n",
       "</table>\n",
       "</div>"
      ],
      "text/plain": [
       "   Product Thickness  Pass Number  Core Temp (F)  Core Temp (K)    Strain  \\\n",
       "0              0.500            1    2005.255315    1369.402953  0.028857   \n",
       "1              0.625            6    1933.607740    1329.598745  0.038766   \n",
       "2              1.000            4    1933.410319    1329.489066  0.004323   \n",
       "3              0.375            2    1928.884342    1326.974634  0.130460   \n",
       "4              1.000            5    1925.099331    1324.871850  0.032533   \n",
       "\n",
       "   Strain Rate  Flow Stress (Pa)  Meas FS (ksi)     ln(FS)      1/RT  \\\n",
       "0     0.852749      1.891260e+07       2.743040  16.755339  0.000088   \n",
       "1     2.005702      1.635305e+08      23.718087  18.912510  0.000090   \n",
       "2     0.571701      1.253132e+08      18.175144  18.646327  0.000090   \n",
       "3     2.480761      1.291659e+08      18.733925  18.676608  0.000091   \n",
       "4     1.479811      1.403631e+08      20.357943  18.759743  0.000091   \n",
       "\n",
       "   ln(Strain)  ln(Strain Rate)  \n",
       "0   -3.545403        -0.159291  \n",
       "1   -3.250216         0.695994  \n",
       "2   -5.443858        -0.559139  \n",
       "3   -2.036691         0.908566  \n",
       "4   -3.425496         0.391914  "
      ]
     },
     "execution_count": 4,
     "metadata": {},
     "output_type": "execute_result"
    }
   ],
   "source": [
    "force1.head()"
   ]
  },
  {
   "cell_type": "code",
   "execution_count": 5,
   "id": "065bdcec",
   "metadata": {},
   "outputs": [
    {
     "data": {
      "text/plain": [
       "Index(['Product Thickness', 'Pass Number', 'Core Temp (F)', 'Core Temp (K)',\n",
       "       'Strain', 'Strain Rate', 'Flow Stress (Pa)', 'Meas FS (ksi)', 'ln(FS)',\n",
       "       '1/RT', 'ln(Strain)', 'ln(Strain Rate)'],\n",
       "      dtype='object')"
      ]
     },
     "execution_count": 5,
     "metadata": {},
     "output_type": "execute_result"
    }
   ],
   "source": [
    "force1.columns"
   ]
  },
  {
   "cell_type": "markdown",
   "id": "a19f3623",
   "metadata": {},
   "source": [
    "### Form the system of equations as governed by the Zener-Holloman equation"
   ]
  },
  {
   "cell_type": "markdown",
   "id": "20d86ac8",
   "metadata": {},
   "source": [
    "$\\sigma = Ae^{\\Lambda/RT} \\epsilon^{m} \\epsilon'^{n}$\n",
    "\n",
    "where, \n",
    "\n",
    "$\\sigma =$ Force\n",
    "\n",
    "$A =$ material base hardness\n",
    "\n",
    "$\\Lambda =$ activation energy\n",
    "\n",
    "$R =$ Gas constant 8.31432\n",
    "\n",
    "$T =$ Core Temperature\n",
    "\n",
    "$\\epsilon =$ Strain\n",
    "\n",
    "$\\epsilon' =$ Strain Rate\n",
    "\n",
    "We linearize it as:\n",
    "\n",
    "$ln(\\sigma) = ln(A) + \\Lambda/RT + m*ln(\\epsilon) + n*ln(\\epsilon')$"
   ]
  },
  {
   "cell_type": "code",
   "execution_count": 6,
   "id": "a6586b36",
   "metadata": {},
   "outputs": [],
   "source": [
    "#define left-hand side of equation\n",
    "left_side = np.array([[len(force1), force1['1/RT'].sum(), force1['ln(Strain)'].sum(),force1['ln(Strain Rate)'].sum()],\n",
    "                     [force1['1/RT'].sum(), (np.power(force1['1/RT'],2)).sum(),(force1['1/RT']*force1['ln(Strain)']).sum(),(force1['1/RT']*force1['ln(Strain Rate)']).sum()], \n",
    "                      [force1['ln(Strain)'].sum(), (force1['1/RT']*force1['ln(Strain)']).sum(),(np.power(force1['ln(Strain)'],2)).sum(),(force1['ln(Strain)']*force1['ln(Strain Rate)']).sum()],\n",
    "                      [force1['ln(Strain Rate)'].sum(), (force1['1/RT']*force1['ln(Strain Rate)']).sum(), (force1['ln(Strain)']*force1['ln(Strain Rate)']).sum(),(np.power(force1['ln(Strain Rate)'],2)).sum()]])\n",
    "\n",
    "#define right-hand side of equation\n",
    "#right_side = np.array([2133.709916,0.204653354,-5170.45505,2860.664942])\n",
    "right_side = np.array([force1['ln(FS)'].sum(),(force1['ln(FS)']*force1['1/RT']).sum(),(force1['ln(FS)']*force1['ln(Strain)']).sum(),(force1['ln(FS)']*force1['ln(Strain Rate)']).sum()])\n",
    "\n",
    "#solve for c1,c2,c3,c4\n",
    "sol=np.linalg.inv(left_side).dot(right_side)"
   ]
  },
  {
   "cell_type": "markdown",
   "id": "c40b9479",
   "metadata": {},
   "source": [
    "#### Checking the values below to make sure they are correct"
   ]
  },
  {
   "cell_type": "code",
   "execution_count": 7,
   "id": "bec2c94a",
   "metadata": {},
   "outputs": [
    {
     "data": {
      "text/plain": [
       "-2.816627397794231"
      ]
     },
     "execution_count": 7,
     "metadata": {},
     "output_type": "execute_result"
    }
   ],
   "source": [
    "force1['1/RT'].sum()*force1['ln(Strain)'].sum()"
   ]
  },
  {
   "cell_type": "code",
   "execution_count": 8,
   "id": "80183cb7",
   "metadata": {},
   "outputs": [
    {
     "data": {
      "text/plain": [
       "-0.0255732905207855"
      ]
     },
     "execution_count": 8,
     "metadata": {},
     "output_type": "execute_result"
    }
   ],
   "source": [
    "(force1['1/RT']*force1['ln(Strain)']).sum()"
   ]
  },
  {
   "cell_type": "code",
   "execution_count": 9,
   "id": "b9b4450b",
   "metadata": {},
   "outputs": [
    {
     "data": {
      "text/plain": [
       "2133.709916346965"
      ]
     },
     "execution_count": 9,
     "metadata": {},
     "output_type": "execute_result"
    }
   ],
   "source": [
    "force1['ln(FS)'].sum()"
   ]
  },
  {
   "cell_type": "code",
   "execution_count": 10,
   "id": "5c882b04",
   "metadata": {},
   "outputs": [
    {
     "data": {
      "text/plain": [
       "0.20465335423816353"
      ]
     },
     "execution_count": 10,
     "metadata": {},
     "output_type": "execute_result"
    }
   ],
   "source": [
    "(force1['ln(FS)']*force1['1/RT']).sum()"
   ]
  },
  {
   "cell_type": "code",
   "execution_count": 11,
   "id": "545c5777",
   "metadata": {},
   "outputs": [
    {
     "data": {
      "text/plain": [
       "-5170.455050153766"
      ]
     },
     "execution_count": 11,
     "metadata": {},
     "output_type": "execute_result"
    }
   ],
   "source": [
    "(force1['ln(FS)']*force1['ln(Strain)']).sum()"
   ]
  },
  {
   "cell_type": "code",
   "execution_count": 12,
   "id": "24a45270",
   "metadata": {},
   "outputs": [
    {
     "data": {
      "text/plain": [
       "2860.664942066655"
      ]
     },
     "execution_count": 12,
     "metadata": {},
     "output_type": "execute_result"
    }
   ],
   "source": [
    "(force1['ln(FS)']*force1['ln(Strain Rate)']).sum()"
   ]
  },
  {
   "cell_type": "markdown",
   "id": "707b96b2",
   "metadata": {},
   "source": [
    "### Solutions to the system of equations"
   ]
  },
  {
   "cell_type": "code",
   "execution_count": 13,
   "id": "f6d05dea",
   "metadata": {},
   "outputs": [],
   "source": [
    "c1=np.exp(sol[0])\n",
    "c2=sol[1]\n",
    "c3=sol[2]\n",
    "c4=sol[3]"
   ]
  },
  {
   "cell_type": "code",
   "execution_count": 14,
   "id": "e407d1b9",
   "metadata": {},
   "outputs": [
    {
     "name": "stdout",
     "output_type": "stream",
     "text": [
      "5684853.280812844\n",
      "30600.773266375065\n",
      "-0.14659341280912486\n",
      "0.41966654801836967\n"
     ]
    }
   ],
   "source": [
    "print(c1)\n",
    "print(c2)\n",
    "print(c3)\n",
    "print(c4)"
   ]
  },
  {
   "cell_type": "markdown",
   "id": "07510a50",
   "metadata": {},
   "source": [
    "### Calculating force using Zener-Holloman equation and c1,c2,c3,c4 "
   ]
  },
  {
   "cell_type": "code",
   "execution_count": 15,
   "id": "8a8f9ff3",
   "metadata": {},
   "outputs": [],
   "source": [
    "## Converting to ksi (multipy by 1.4503773773E-7 )\n",
    "force1['pred']=(c1*np.exp(c2*force1['1/RT'])*np.power(force1['Strain'],c3)*np.power(force1['Strain Rate'],c4))*1.4503773773E-7"
   ]
  },
  {
   "cell_type": "markdown",
   "id": "a4f4f2f1",
   "metadata": {},
   "source": [
    "### Meas vs Pred Plot Using solutions from the system of equations"
   ]
  },
  {
   "cell_type": "code",
   "execution_count": 34,
   "id": "5d7d3a55",
   "metadata": {},
   "outputs": [
    {
     "data": {
      "image/png": "[encoded data removed]",
      "text/plain": [
       "<Figure size 640x480 with 1 Axes>"
      ]
     },
     "metadata": {},
     "output_type": "display_data"
    }
   ],
   "source": [
    "plt.plot(force1['Core Temp (F)'],force1['Meas FS (ksi)'],'ro',label='actual')\n",
    "plt.plot(force1['Core Temp (F)'],force1['pred'],'bo', label='predicted')\n",
    "plt.grid(color='g', ls=':', alpha=0.5)\n",
    "plt.title('Using System of Equations, $R^2:85\\%$')\n",
    "plt.legend()\n",
    "plt.show()"
   ]
  },
  {
   "cell_type": "code",
   "execution_count": 17,
   "id": "a89ac06a",
   "metadata": {},
   "outputs": [
    {
     "name": "stdout",
     "output_type": "stream",
     "text": [
      "R^2: 0.855476209496886\n",
      "RMSE: 7.575445392666885\n"
     ]
    }
   ],
   "source": [
    "print(\"R^2:\",metrics.r2_score(force1['Meas FS (ksi)'], force1['pred']))\n",
    "print(\"RMSE:\",np.sqrt(metrics.mean_squared_error(force1['Meas FS (ksi)'], force1['pred'])))"
   ]
  },
  {
   "cell_type": "markdown",
   "id": "fd428357",
   "metadata": {},
   "source": [
    "### Optimization"
   ]
  },
  {
   "cell_type": "markdown",
   "id": "bc759215",
   "metadata": {},
   "source": [
    "### Function to calculate flow stress using Zener-Hollomon equation"
   ]
  },
  {
   "cell_type": "code",
   "execution_count": 18,
   "id": "11d5ed80",
   "metadata": {},
   "outputs": [],
   "source": [
    "def zener_holloman(c, gas_temp, strain, strain_rate):\n",
    "    c1, c2, c3, c4 = c\n",
    "   # R = 8.31432  # gas constant in J/(mol*K)\n",
    "    return c1 * np.exp(c2 *gas_temp) * strain**c3 * strain_rate ** c4 #* 1.4503773773E-7"
   ]
  },
  {
   "cell_type": "code",
   "execution_count": 22,
   "id": "e408f185",
   "metadata": {},
   "outputs": [],
   "source": [
    "gas_temp = force1['1/RT']\n",
    "strain = force1['Strain']\n",
    "strain_rate = force1['Strain Rate']\n",
    "actual_force = force1['Meas FS (ksi)']"
   ]
  },
  {
   "cell_type": "markdown",
   "id": "4b7f67ea",
   "metadata": {},
   "source": [
    "### Objective function to minimize - RMSE"
   ]
  },
  {
   "cell_type": "code",
   "execution_count": 19,
   "id": "20c3ff1c",
   "metadata": {},
   "outputs": [],
   "source": [
    "def objective_function(c, temp, strain, strain_rate, actual_force):\n",
    "    predicted_force = zener_hollomon(c, gas_temp, strain, strain_rate)\n",
    "    rmse = np.sqrt(np.mean((predicted_force - actual_force)**2))\n",
    "    return rmse"
   ]
  },
  {
   "cell_type": "markdown",
   "id": "44a26eba",
   "metadata": {},
   "source": [
    "### Use Linear Regression"
   ]
  },
  {
   "cell_type": "code",
   "execution_count": 20,
   "id": "bc6da4e4",
   "metadata": {},
   "outputs": [],
   "source": [
    "from sklearn.linear_model import LinearRegression"
   ]
  },
  {
   "cell_type": "markdown",
   "id": "07dd77d6",
   "metadata": {},
   "source": [
    "### Creating a design matrix obtained using the transformations from Zener-Holloman"
   ]
  },
  {
   "cell_type": "code",
   "execution_count": 23,
   "id": "0ed10228",
   "metadata": {},
   "outputs": [
    {
     "data": {
      "text/plain": [
       "array([[ 1.00000000e+00,  8.78298224e-05, -3.54540348e+00,\n",
       "        -1.59290510e-01],\n",
       "       [ 1.00000000e+00,  9.04591845e-05, -3.25021614e+00,\n",
       "         6.95994340e-01],\n",
       "       [ 1.00000000e+00,  9.04666471e-05, -5.44385811e+00,\n",
       "        -5.59138981e-01],\n",
       "       [ 1.00000000e+00,  9.06380687e-05, -2.03669148e+00,\n",
       "         9.08565519e-01],\n",
       "       [ 1.00000000e+00,  9.07819259e-05, -3.42549611e+00,\n",
       "         3.91914174e-01],\n",
       "       [ 1.00000000e+00,  9.07887834e-05, -2.31698364e+00,\n",
       "         8.26120421e-01],\n",
       "       [ 1.00000000e+00,  9.09632780e-05, -2.01463643e+00,\n",
       "         1.20848036e+00],\n",
       "       [ 1.00000000e+00,  9.10915356e-05, -1.95277745e+00,\n",
       "         9.53775459e-01],\n",
       "       [ 1.00000000e+00,  9.11472950e-05, -2.68021194e+00,\n",
       "         8.84769763e-01],\n",
       "       [ 1.00000000e+00,  9.11526767e-05, -1.86982471e+00,\n",
       "         1.18924591e+00],\n",
       "       [ 1.00000000e+00,  9.11654704e-05, -3.74435704e+00,\n",
       "         4.07128673e-01],\n",
       "       [ 1.00000000e+00,  9.12677909e-05, -2.14960549e+00,\n",
       "         8.84847882e-01],\n",
       "       [ 1.00000000e+00,  9.12757257e-05, -2.72470211e+00,\n",
       "         5.88251202e-01],\n",
       "       [ 1.00000000e+00,  9.13891123e-05, -2.32461874e+00,\n",
       "         7.59979413e-01],\n",
       "       [ 1.00000000e+00,  9.14184782e-05, -2.42411176e+00,\n",
       "         7.40635539e-01],\n",
       "       [ 1.00000000e+00,  9.14405421e-05, -2.31119236e+00,\n",
       "         8.47583822e-01],\n",
       "       [ 1.00000000e+00,  9.14679489e-05, -3.91575332e+00,\n",
       "         3.40317394e-01],\n",
       "       [ 1.00000000e+00,  9.15183097e-05, -5.71241089e+00,\n",
       "        -5.49546782e-01],\n",
       "       [ 1.00000000e+00,  9.15328524e-05, -4.28607548e+00,\n",
       "         1.51734712e-01],\n",
       "       [ 1.00000000e+00,  9.16221430e-05, -1.87458276e+00,\n",
       "         1.37500749e+00],\n",
       "       [ 1.00000000e+00,  9.16266170e-05, -2.02652524e+00,\n",
       "         1.16620892e+00],\n",
       "       [ 1.00000000e+00,  9.16488127e-05, -1.97265109e+00,\n",
       "         1.04557877e+00],\n",
       "       [ 1.00000000e+00,  9.16500564e-05, -1.74631955e+00,\n",
       "         5.12863182e-01],\n",
       "       [ 1.00000000e+00,  9.16647129e-05, -6.96429306e+00,\n",
       "        -1.16562918e+00],\n",
       "       [ 1.00000000e+00,  9.16775895e-05, -5.20575091e+00,\n",
       "        -4.18766337e-01],\n",
       "       [ 1.00000000e+00,  9.17914280e-05, -1.99651056e+00,\n",
       "         7.50696635e-01],\n",
       "       [ 1.00000000e+00,  9.18715342e-05, -2.53971805e+00,\n",
       "         7.08306273e-01],\n",
       "       [ 1.00000000e+00,  9.18715506e-05, -1.99915753e+00,\n",
       "         1.05229229e+00],\n",
       "       [ 1.00000000e+00,  9.18835212e-05, -2.18747184e+00,\n",
       "         9.62222357e-01],\n",
       "       [ 1.00000000e+00,  9.20127648e-05, -2.14374529e+00,\n",
       "         1.20982429e+00],\n",
       "       [ 1.00000000e+00,  9.20499890e-05, -1.49289913e+00,\n",
       "         1.65150092e+00],\n",
       "       [ 1.00000000e+00,  9.20626067e-05, -1.96774981e+00,\n",
       "         8.81483742e-01],\n",
       "       [ 1.00000000e+00,  9.21499869e-05, -2.29081329e+00,\n",
       "         9.00727383e-01],\n",
       "       [ 1.00000000e+00,  9.21522199e-05, -1.95439240e+00,\n",
       "         1.20820035e+00],\n",
       "       [ 1.00000000e+00,  9.22036150e-05, -1.61128835e+00,\n",
       "         1.71519054e+00],\n",
       "       [ 1.00000000e+00,  9.22946189e-05, -1.81757756e+00,\n",
       "         1.43987595e+00],\n",
       "       [ 1.00000000e+00,  9.23689709e-05, -2.55874547e+00,\n",
       "         7.07991541e-01],\n",
       "       [ 1.00000000e+00,  9.24163540e-05, -1.59881854e+00,\n",
       "         1.26383970e+00],\n",
       "       [ 1.00000000e+00,  9.24453886e-05, -1.64832484e+00,\n",
       "         1.34704167e+00],\n",
       "       [ 1.00000000e+00,  9.24788439e-05, -2.52936460e+00,\n",
       "         1.22882976e+00],\n",
       "       [ 1.00000000e+00,  9.25563983e-05, -4.76232611e+00,\n",
       "        -7.51447176e-02],\n",
       "       [ 1.00000000e+00,  9.26303653e-05, -1.97673104e+00,\n",
       "         1.04845790e+00],\n",
       "       [ 1.00000000e+00,  9.27351810e-05, -1.72143300e+00,\n",
       "         1.12916231e+00],\n",
       "       [ 1.00000000e+00,  9.27396188e-05, -5.74971056e+00,\n",
       "        -5.55593909e-01],\n",
       "       [ 1.00000000e+00,  9.28200237e-05, -2.06618364e+00,\n",
       "         1.08530876e+00],\n",
       "       [ 1.00000000e+00,  9.28260463e-05, -2.27527226e+00,\n",
       "         1.32937798e+00],\n",
       "       [ 1.00000000e+00,  9.31318896e-05, -8.01317765e+00,\n",
       "        -1.70167000e+00],\n",
       "       [ 1.00000000e+00,  9.31366311e-05, -1.96924947e+00,\n",
       "         1.44768954e+00],\n",
       "       [ 1.00000000e+00,  9.31578994e-05, -1.65542637e+00,\n",
       "         1.39518600e+00],\n",
       "       [ 1.00000000e+00,  9.31644363e-05, -1.69961128e+00,\n",
       "         1.58703583e+00],\n",
       "       [ 1.00000000e+00,  9.31797623e-05, -1.27764840e+00,\n",
       "         1.98701065e+00],\n",
       "       [ 1.00000000e+00,  9.32562122e-05, -1.82464949e+00,\n",
       "         1.03254785e+00],\n",
       "       [ 1.00000000e+00,  9.32574191e-05, -1.83124852e+00,\n",
       "         2.10645218e+00],\n",
       "       [ 1.00000000e+00,  9.33045866e-05, -1.53373884e+00,\n",
       "         1.56029441e+00],\n",
       "       [ 1.00000000e+00,  9.33465817e-05, -1.59510754e+00,\n",
       "         1.81362481e+00],\n",
       "       [ 1.00000000e+00,  9.34828635e-05, -1.62461261e+00,\n",
       "         5.47911153e-01],\n",
       "       [ 1.00000000e+00,  9.34872058e-05, -1.55177856e+00,\n",
       "         2.36004144e+00],\n",
       "       [ 1.00000000e+00,  9.34967037e-05, -1.36749771e+00,\n",
       "         1.81650440e+00],\n",
       "       [ 1.00000000e+00,  9.38995365e-05, -4.98799621e+00,\n",
       "        -3.07949075e-01],\n",
       "       [ 1.00000000e+00,  9.40212913e-05, -1.45899094e+00,\n",
       "         1.83844834e+00],\n",
       "       [ 1.00000000e+00,  9.40794400e-05, -1.96214246e+00,\n",
       "         1.29288095e+00],\n",
       "       [ 1.00000000e+00,  9.42337220e-05, -1.80035741e+00,\n",
       "         1.51923260e+00],\n",
       "       [ 1.00000000e+00,  9.44145708e-05, -3.49213923e+00,\n",
       "         5.66400197e-01],\n",
       "       [ 1.00000000e+00,  9.45268905e-05, -1.36403734e+00,\n",
       "         2.16653784e+00],\n",
       "       [ 1.00000000e+00,  9.45629155e-05, -4.21468258e+00,\n",
       "         2.03502519e-01],\n",
       "       [ 1.00000000e+00,  9.45740129e-05, -4.46657303e+00,\n",
       "         4.94065241e-02],\n",
       "       [ 1.00000000e+00,  9.46404103e-05, -1.62988522e+00,\n",
       "         1.78086384e+00],\n",
       "       [ 1.00000000e+00,  9.46725608e-05, -1.54316734e+00,\n",
       "         1.95915942e+00],\n",
       "       [ 1.00000000e+00,  9.48729735e-05, -1.72306683e+00,\n",
       "         1.51157121e+00],\n",
       "       [ 1.00000000e+00,  9.50118645e-05, -1.40835013e+00,\n",
       "         2.25308845e+00],\n",
       "       [ 1.00000000e+00,  9.50712842e-05, -1.56432589e+00,\n",
       "         2.26840780e+00],\n",
       "       [ 1.00000000e+00,  9.50881484e-05, -2.64171621e+00,\n",
       "         1.91364147e+00],\n",
       "       [ 1.00000000e+00,  9.51650274e-05, -1.75040966e+00,\n",
       "         1.57200401e+00],\n",
       "       [ 1.00000000e+00,  9.52842560e-05, -1.63746886e+00,\n",
       "         1.70410343e+00],\n",
       "       [ 1.00000000e+00,  9.54348553e-05, -1.42003081e+00,\n",
       "         2.28100460e+00],\n",
       "       [ 1.00000000e+00,  9.55528100e-05, -2.50869411e+00,\n",
       "         1.07042255e+00],\n",
       "       [ 1.00000000e+00,  9.56027339e-05, -1.41622819e+00,\n",
       "         2.06877825e+00],\n",
       "       [ 1.00000000e+00,  9.56848464e-05, -1.43816972e+00,\n",
       "         1.76974235e+00],\n",
       "       [ 1.00000000e+00,  9.56985584e-05, -1.50731425e+00,\n",
       "         1.87213836e+00],\n",
       "       [ 1.00000000e+00,  9.60856887e-05, -2.10918285e+00,\n",
       "         1.25399594e+00],\n",
       "       [ 1.00000000e+00,  9.64634110e-05, -1.82355989e+00,\n",
       "         2.50745266e+00],\n",
       "       [ 1.00000000e+00,  9.65038647e-05, -1.28704952e+00,\n",
       "         2.09511345e+00],\n",
       "       [ 1.00000000e+00,  9.66359880e-05, -2.18236217e+00,\n",
       "         2.14529500e+00],\n",
       "       [ 1.00000000e+00,  9.66716507e-05, -1.46456753e+00,\n",
       "         2.39486246e+00],\n",
       "       [ 1.00000000e+00,  9.68941204e-05, -2.84425222e+00,\n",
       "         1.44525266e+00],\n",
       "       [ 1.00000000e+00,  9.74260613e-05, -1.42639890e+00,\n",
       "         2.36117841e+00],\n",
       "       [ 1.00000000e+00,  9.77187836e-05, -1.20003170e+00,\n",
       "         2.28539675e+00],\n",
       "       [ 1.00000000e+00,  9.88805079e-05, -2.66933680e+00,\n",
       "         1.78130394e+00],\n",
       "       [ 1.00000000e+00,  9.89351604e-05, -1.79446839e+00,\n",
       "         1.95037860e+00],\n",
       "       [ 1.00000000e+00,  9.91751620e-05, -1.47152794e+00,\n",
       "         1.03726970e+00],\n",
       "       [ 1.00000000e+00,  9.92450574e-05, -1.57612820e+00,\n",
       "         1.95249075e+00],\n",
       "       [ 1.00000000e+00,  9.94048603e-05, -1.73441755e+00,\n",
       "         2.17138847e+00],\n",
       "       [ 1.00000000e+00,  9.94235303e-05, -2.72301991e+00,\n",
       "         1.92632570e+00],\n",
       "       [ 1.00000000e+00,  9.96683423e-05, -1.58698406e+00,\n",
       "         2.39909028e+00],\n",
       "       [ 1.00000000e+00,  1.00277288e-04, -1.59562067e+00,\n",
       "         2.51994210e+00],\n",
       "       [ 1.00000000e+00,  1.01869102e-04, -2.94335842e+00,\n",
       "         2.09223023e+00],\n",
       "       [ 1.00000000e+00,  1.02036676e-04, -1.76073567e+00,\n",
       "         2.12661201e+00],\n",
       "       [ 1.00000000e+00,  1.02207144e-04, -1.85333478e+00,\n",
       "         2.65712872e+00],\n",
       "       [ 1.00000000e+00,  1.03737472e-04, -1.71480579e+00,\n",
       "         2.56505652e+00],\n",
       "       [ 1.00000000e+00,  1.04837939e-04, -3.03101255e+00,\n",
       "         1.82062890e+00],\n",
       "       [ 1.00000000e+00,  1.04870770e-04, -4.10067404e+00,\n",
       "         9.11715208e-01],\n",
       "       [ 1.00000000e+00,  1.05664690e-04, -2.48641108e+00,\n",
       "         2.15755650e+00],\n",
       "       [ 1.00000000e+00,  1.06872960e-04, -1.97197239e+00,\n",
       "         2.52092568e+00],\n",
       "       [ 1.00000000e+00,  1.08901803e-04, -2.77002697e+00,\n",
       "         2.32145669e+00],\n",
       "       [ 1.00000000e+00,  1.10407394e-04, -2.32298773e+00,\n",
       "         2.40927897e+00],\n",
       "       [ 1.00000000e+00,  1.13162256e-04, -2.86430809e+00,\n",
       "         2.03950690e+00],\n",
       "       [ 1.00000000e+00,  1.14659471e-04, -2.34753706e+00,\n",
       "         2.44541007e+00],\n",
       "       [ 1.00000000e+00,  1.17630808e-04, -3.34052305e+00,\n",
       "         1.70208481e+00],\n",
       "       [ 1.00000000e+00,  1.19370122e-04, -2.75733992e+00,\n",
       "         2.29336852e+00],\n",
       "       [ 1.00000000e+00,  1.23762392e-04, -2.86904999e+00,\n",
       "         2.26758357e+00]])"
      ]
     },
     "execution_count": 23,
     "metadata": {},
     "output_type": "execute_result"
    }
   ],
   "source": [
    "X = np.column_stack([\n",
    "    np.ones_like(gas_temp),\n",
    "    gas_temp,\n",
    "    force1['ln(Strain)'],\n",
    "    force1['ln(Strain Rate)']\n",
    "])\n",
    "\n",
    "X"
   ]
  },
  {
   "cell_type": "code",
   "execution_count": 24,
   "id": "a60a502e",
   "metadata": {},
   "outputs": [
    {
     "name": "stdout",
     "output_type": "stream",
     "text": [
      "Optimized parameters (c1, c2, c3, c4): [0.0, 2172127.117033613, -4.257404309943143, -190.1658624864682]\n",
      "RMSE: 5.629803142226784\n",
      "R^2: 0.9201804237512915\n"
     ]
    }
   ],
   "source": [
    "# Fit linear regression model\n",
    "model = LinearRegression()\n",
    "model.fit(X, actual_force)\n",
    "\n",
    "# Extract optimized parameters\n",
    "optimized_params = [model.coef_[0], model.coef_[1], model.coef_[2], model.intercept_]\n",
    "\n",
    "# Calculate predicted force\n",
    "predicted_force = model.predict(X)\n",
    "\n",
    "# Calculate RMSE\n",
    "rmse = np.sqrt(mean_squared_error(actual_force, predicted_force))\n",
    "\n",
    "print(\"Optimized parameters (c1, c2, c3, c4):\", optimized_params)\n",
    "print(\"RMSE:\", rmse)\n",
    "print(\"R^2:\",metrics.r2_score(actual_force, predicted_force))"
   ]
  },
  {
   "cell_type": "code",
   "execution_count": 33,
   "id": "2a02d510",
   "metadata": {},
   "outputs": [
    {
     "data": {
      "image/png": "[encoded data removed]",
      "text/plain": [
       "<Figure size 640x480 with 1 Axes>"
      ]
     },
     "metadata": {},
     "output_type": "display_data"
    }
   ],
   "source": [
    "plt.plot(force1['Core Temp (F)'],force1['Meas FS (ksi)'],'ro',label='actual')\n",
    "plt.plot(force1['Core Temp (F)'],predicted_force,'bo', label='predicted')\n",
    "plt.grid(color='g', ls=':', alpha=0.5)\n",
    "plt.title('Using Linear Regression, $R^2:92\\%$')\n",
    "plt.legend()\n",
    "plt.show()"
   ]
  },
  {
   "cell_type": "markdown",
   "id": "ea315a14",
   "metadata": {},
   "source": [
    "### Repalcing the values of ones in the matrix"
   ]
  },
  {
   "cell_type": "code",
   "execution_count": 27,
   "id": "6d2ed819",
   "metadata": {},
   "outputs": [
    {
     "name": "stdout",
     "output_type": "stream",
     "text": [
      "Optimized parameters (c1, c2, c3, c4): [2172127.1170268524, -4.257404310203674, 11.056537895982183, -190.165862486422]\n",
      "RMSE: 5.629803142226782\n",
      "R^2: 0.9201804237512915\n"
     ]
    }
   ],
   "source": [
    "X = np.column_stack([\n",
    "    gas_temp,\n",
    "    force1['ln(Strain)'],\n",
    "    force1['ln(Strain Rate)'],\n",
    "    np.ones_like(gas_temp)\n",
    "])\n",
    "\n",
    "# Fit linear regression model\n",
    "model = LinearRegression()\n",
    "model.fit(X, actual_force)\n",
    "\n",
    "# Extract optimized parameters\n",
    "optimized_params = [model.coef_[0], model.coef_[1], model.coef_[2], model.intercept_]\n",
    "\n",
    "# Calculate predicted force\n",
    "predicted_force = model.predict(X)\n",
    "#actual_force = force1['Meas FS (ksi)']\n",
    "# Calculate RMSE\n",
    "rmse = np.sqrt(mean_squared_error(actual_force, predicted_force))\n",
    "\n",
    "print(\"Optimized parameters (c1, c2, c3, c4):\", optimized_params)\n",
    "print(\"RMSE:\", rmse)\n",
    "print(\"R^2:\",metrics.r2_score(actual_force, predicted_force))"
   ]
  },
  {
   "cell_type": "code",
   "execution_count": 32,
   "id": "0cca4ce1",
   "metadata": {},
   "outputs": [
    {
     "data": {
      "image/png": "[encoded data removed]",
      "text/plain": [
       "<Figure size 640x480 with 1 Axes>"
      ]
     },
     "metadata": {},
     "output_type": "display_data"
    }
   ],
   "source": [
    "plt.plot(force1['Core Temp (F)'],force1['Meas FS (ksi)'],'ro',label='actual')\n",
    "plt.plot(force1['Core Temp (F)'],predicted_force,'bo', label='predicted')\n",
    "plt.grid(color='g', ls=':', alpha=0.5)\n",
    "plt.title('Using Linear Regression, $R^2:92\\%$')\n",
    "plt.legend()\n",
    "plt.show()"
   ]
  },
  {
   "cell_type": "code",
   "execution_count": 30,
   "id": "3364fb8d",
   "metadata": {},
   "outputs": [
    {
     "name": "stdout",
     "output_type": "stream",
     "text": [
      "R^2: 0.9201804237512915\n",
      "RMSE: 5.629803142226782\n"
     ]
    }
   ],
   "source": [
    "print(\"R^2:\",metrics.r2_score(actual_force, predicted_force))\n",
    "print(\"RMSE:\",np.sqrt(metrics.mean_squared_error(actual_force, predicted_force)))"
   ]
  },
  {
   "cell_type": "markdown",
   "id": "28797f7c",
   "metadata": {},
   "source": [
    "#### - Linear Regression increases the correlation to 92% from 85% that was obtained by solving the system of equations\n",
    "#### - Next Step : Divide into three regions and optimize, look for outliers"
   ]
  },
  {
   "cell_type": "code",
   "execution_count": null,
   "id": "104c5964",
   "metadata": {},
   "outputs": [],
   "source": []
  }
 ],
 "metadata": {
  "kernelspec": {
   "display_name": "Python 3 (ipykernel)",
   "language": "python",
   "name": "python3"
  },
  "language_info": {
   "codemirror_mode": {
    "name": "ipython",
    "version": 3
   },
   "file_extension": ".py",
   "mimetype": "text/x-python",
   "name": "python",
   "nbconvert_exporter": "python",
   "pygments_lexer": "ipython3",
   "version": "3.11.5"
  }
 },
 "nbformat": 4,
 "nbformat_minor": 5
}
